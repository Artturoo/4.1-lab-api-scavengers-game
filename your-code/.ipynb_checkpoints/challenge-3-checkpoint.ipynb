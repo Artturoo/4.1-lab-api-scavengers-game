{
 "cells": [
  {
   "cell_type": "markdown",
   "id": "defensive-clock",
   "metadata": {},
   "source": [
    "# Challenge 3: Hidden Cold Joke\n",
    "\n",
    "Using Python, call Github API to find out the cold joke contained in the 24 secret files in the following repo:\n",
    "\n",
    "https://github.com/ironhack-datalabs/scavenger\n",
    "\n",
    "The filenames of the secret files contain .scavengerhunt and they are scattered in different directories of this repo. The secret files are named from .0001.scavengerhunt to .0024.scavengerhunt. They are scattered randomly throughout this repo. You need to search for these files by calling the Github API, not searching the local files on your computer.\n",
    "\n",
    "\n",
    "After you find out the secrete files:\n",
    "\n",
    "Sort the filenames ascendingly.\n",
    "\n",
    "Read the content of each secret files into an array of strings.\n",
    "\n",
    "Concatenate the strings in the array separating each two with a whitespace.\n",
    "\n",
    "Print out the joke."
   ]
  },
  {
   "cell_type": "markdown",
   "id": "universal-length",
   "metadata": {},
   "source": [
    "⚠️ **Remember to limit your output before submission**."
   ]
  },
  {
   "cell_type": "code",
   "execution_count": 2,
   "id": "toxic-trading",
   "metadata": {},
   "outputs": [],
   "source": [
    "# Your code"
   ]
  },
  {
   "cell_type": "code",
   "execution_count": 3,
   "id": "static-stopping",
   "metadata": {},
   "outputs": [],
   "source": [
    "# Example: print(variable[:10]) "
   ]
  },
  {
   "cell_type": "code",
   "execution_count": 4,
   "id": "c29716a6",
   "metadata": {},
   "outputs": [],
   "source": [
    "import json \n",
    "import requests as req"
   ]
  },
  {
   "cell_type": "code",
   "execution_count": 5,
   "id": "cf4a7b65",
   "metadata": {},
   "outputs": [],
   "source": [
    "with open('password.txt', 'r') as file:\n",
    "    pass_=file.read()"
   ]
  },
  {
   "cell_type": "code",
   "execution_count": 7,
   "id": "42331b8a",
   "metadata": {},
   "outputs": [],
   "source": [
    "url1='https://api.github.com/repos/ironhack-datalabs/scavenger'"
   ]
  },
  {
   "cell_type": "code",
   "execution_count": 8,
   "id": "fe52b664",
   "metadata": {},
   "outputs": [
    {
     "data": {
      "text/plain": [
       "<Response [200]>"
      ]
     },
     "execution_count": 8,
     "metadata": {},
     "output_type": "execute_result"
    }
   ],
   "source": [
    "header={'Authorization':'token ' + pass_}\n",
    "\n",
    "git=req.get(url1, headers=header)\n",
    "git"
   ]
  },
  {
   "cell_type": "code",
   "execution_count": 10,
   "id": "dc5bccc3",
   "metadata": {},
   "outputs": [],
   "source": [
    "#git.json()"
   ]
  },
  {
   "cell_type": "code",
   "execution_count": 11,
   "id": "c9500dc5",
   "metadata": {},
   "outputs": [],
   "source": [
    "url2='https://api.github.com/repos/ironhack-datalabs/scavenger/contents/'"
   ]
  },
  {
   "cell_type": "code",
   "execution_count": 13,
   "id": "029c3b64",
   "metadata": {},
   "outputs": [],
   "source": [
    "header={'Authorization': 'token ' + pass_}\n",
    "\n",
    "git_2=req.get(url2, headers=header)"
   ]
  },
  {
   "cell_type": "code",
   "execution_count": 15,
   "id": "15385e1f",
   "metadata": {},
   "outputs": [],
   "source": [
    "#git_2.json()"
   ]
  },
  {
   "cell_type": "code",
   "execution_count": 22,
   "id": "f5692b6c",
   "metadata": {},
   "outputs": [
    {
     "data": {
      "text/plain": [
       "['b2YK\\n',\n",
       " 'c3BlbnQK\\n',\n",
       " 'MjAK\\n',\n",
       " 'dGltZQo=\\n',\n",
       " 'bmVlZAo=\\n',\n",
       " 'dG8K\\n',\n",
       " 'cGVyY2VudAo=\\n',\n",
       " 'Y29tcGxhaW5pbmcK\\n',\n",
       " 'aXMK\\n',\n",
       " 'ZGF0YS4K\\n',\n",
       " 'cHJlcGFyaW5nCg==\\n',\n",
       " 'b2YK\\n',\n",
       " 'ZGF0YSwK\\n',\n",
       " 'cHJlcGFyZQo=\\n',\n",
       " 'dGhlCg==\\n',\n",
       " 'c2NpZW5jZSwK\\n',\n",
       " 'ODAK\\n',\n",
       " 'YWJvdXQK\\n',\n",
       " 'c3BlbnQK\\n',\n",
       " 'ZGF0YQo=\\n',\n",
       " 'cGVyY2VudAo=\\n',\n",
       " 'dGltZQo=\\n',\n",
       " 'aXMK\\n',\n",
       " 'SW4K\\n']"
      ]
     },
     "execution_count": 22,
     "metadata": {},
     "output_type": "execute_result"
    }
   ],
   "source": [
    "lst = []\n",
    "for i in range(1, len(git_2.json())):\n",
    "    git_3 = req.get(git_2.json()[i]['git_url'], headers=header)\n",
    "    for j in range(len(git_3.json()['tree'])):\n",
    "        if 'scavenger' in git_3.json()['tree'][j]['path']:\n",
    "            git_4 = req.get(git_3.json()['tree'][j]['url'], headers= header)\n",
    "            x = git_4.json()['content']\n",
    "           \n",
    "            lst.append(x)\n",
    "lst"
   ]
  },
  {
   "cell_type": "code",
   "execution_count": null,
   "id": "85f10f28",
   "metadata": {},
   "outputs": [],
   "source": []
  },
  {
   "cell_type": "code",
   "execution_count": null,
   "id": "2544f80f",
   "metadata": {},
   "outputs": [],
   "source": []
  },
  {
   "cell_type": "code",
   "execution_count": null,
   "id": "6cffb5bb",
   "metadata": {},
   "outputs": [],
   "source": []
  },
  {
   "cell_type": "code",
   "execution_count": null,
   "id": "f872eb96",
   "metadata": {},
   "outputs": [],
   "source": []
  },
  {
   "cell_type": "code",
   "execution_count": null,
   "id": "55c60243",
   "metadata": {},
   "outputs": [],
   "source": []
  }
 ],
 "metadata": {
  "kernelspec": {
   "display_name": "Python 3 (ipykernel)",
   "language": "python",
   "name": "python3"
  },
  "language_info": {
   "codemirror_mode": {
    "name": "ipython",
    "version": 3
   },
   "file_extension": ".py",
   "mimetype": "text/x-python",
   "name": "python",
   "nbconvert_exporter": "python",
   "pygments_lexer": "ipython3",
   "version": "3.9.12"
  },
  "toc": {
   "base_numbering": 1,
   "nav_menu": {},
   "number_sections": true,
   "sideBar": true,
   "skip_h1_title": true,
   "title_cell": "Table of Contents",
   "title_sidebar": "Contents",
   "toc_cell": false,
   "toc_position": {},
   "toc_section_display": true,
   "toc_window_display": true
  }
 },
 "nbformat": 4,
 "nbformat_minor": 5
}
